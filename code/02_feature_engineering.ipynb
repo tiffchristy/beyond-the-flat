{
 "cells": [
  {
   "cell_type": "markdown",
   "id": "a3e82d57",
   "metadata": {},
   "source": [
    "# Importing the relevant packages"
   ]
  },
  {
   "cell_type": "code",
   "execution_count": null,
   "id": "7960bd26",
   "metadata": {},
   "outputs": [],
   "source": [
    "import pandas as pd\n",
    "from math import ceil, floor\n",
    "# pip install geopy\n",
    "from geopy.geocoders import Nominatim\n",
    "from geopy.distance import geodesic"
   ]
  },
  {
   "cell_type": "markdown",
   "id": "8a07001a",
   "metadata": {},
   "source": [
    "## Loading in the cleaned data after forward elimination"
   ]
  },
  {
   "cell_type": "code",
   "execution_count": 16,
   "id": "abef0d6b",
   "metadata": {},
   "outputs": [
    {
     "name": "stdout",
     "output_type": "stream",
     "text": [
      "<class 'pandas.core.frame.DataFrame'>\n",
      "RangeIndex: 150634 entries, 0 to 150633\n",
      "Data columns (total 35 columns):\n",
      " #   Column                     Non-Null Count   Dtype  \n",
      "---  ------                     --------------   -----  \n",
      " 0   town                       150634 non-null  object \n",
      " 1   flat_type                  150634 non-null  object \n",
      " 2   storey_range               150634 non-null  object \n",
      " 3   floor_area_sqm             150634 non-null  float64\n",
      " 4   lease_commence_date        150634 non-null  int64  \n",
      " 5   resale_price               150634 non-null  float64\n",
      " 6   Tranc_Year                 150634 non-null  int64  \n",
      " 7   Tranc_Month                150634 non-null  int64  \n",
      " 8   mid                        150634 non-null  int64  \n",
      " 9   hdb_age                    150634 non-null  int64  \n",
      " 10  max_floor_lvl              150634 non-null  int64  \n",
      " 11  1room_sold                 150634 non-null  int64  \n",
      " 12  2room_sold                 150634 non-null  int64  \n",
      " 13  3room_sold                 150634 non-null  int64  \n",
      " 14  4room_sold                 150634 non-null  int64  \n",
      " 15  5room_sold                 150634 non-null  int64  \n",
      " 16  exec_sold                  150634 non-null  int64  \n",
      " 17  multigen_sold              150634 non-null  int64  \n",
      " 18  studio_apartment_sold      150634 non-null  int64  \n",
      " 19  postal                     150634 non-null  object \n",
      " 20  Latitude                   150634 non-null  float64\n",
      " 21  Longitude                  150634 non-null  float64\n",
      " 22  Mall_Nearest_Distance      150634 non-null  float64\n",
      " 23  Mall_Within_1km            150634 non-null  int64  \n",
      " 24  Hawker_Nearest_Distance    150634 non-null  float64\n",
      " 25  Hawker_Within_1km          150634 non-null  int64  \n",
      " 26  mrt_nearest_distance       150634 non-null  float64\n",
      " 27  mrt_name                   150634 non-null  object \n",
      " 28  bus_stop_nearest_distance  150634 non-null  float64\n",
      " 29  pri_sch_nearest_distance   150634 non-null  float64\n",
      " 30  pri_sch_name               150634 non-null  object \n",
      " 31  vacancy                    150634 non-null  int64  \n",
      " 32  pri_sch_affiliation        150634 non-null  int64  \n",
      " 33  pri_sch_latitude           150634 non-null  float64\n",
      " 34  pri_sch_longitude          150634 non-null  float64\n",
      "dtypes: float64(11), int64(18), object(6)\n",
      "memory usage: 40.2+ MB\n"
     ]
    },
    {
     "name": "stderr",
     "output_type": "stream",
     "text": [
      "C:\\Users\\Admin\\AppData\\Local\\Temp\\ipykernel_15164\\4103037086.py:1: DtypeWarning: Columns (19) have mixed types. Specify dtype option on import or set low_memory=False.\n",
      "  df = pd.read_csv('cleaned_data.csv')\n"
     ]
    }
   ],
   "source": [
    "df = pd.read_csv('cleaned_data.csv')\n",
    "df.info()"
   ]
  },
  {
   "cell_type": "markdown",
   "id": "fadc412c",
   "metadata": {},
   "source": [
    "# Feature Engineering"
   ]
  },
  {
   "cell_type": "markdown",
   "id": "e2bef404",
   "metadata": {},
   "source": [
    "age_at_sale: to derive the property's age at the point of the sale. It is different from hdb_age"
   ]
  },
  {
   "cell_type": "code",
   "execution_count": 4,
   "id": "ae4a7733",
   "metadata": {},
   "outputs": [],
   "source": [
    "df['age_at_sale'] = df['Tranc_Year'] - df['lease_commence_date']"
   ]
  },
  {
   "cell_type": "markdown",
   "id": "0be033a7",
   "metadata": {},
   "source": [
    "floor_cat: to consolidate the columns of 'mid' and 'storey range' into one. showing just upper, middle and lower floors of the block"
   ]
  },
  {
   "cell_type": "code",
   "execution_count": 8,
   "id": "32f04bba",
   "metadata": {},
   "outputs": [],
   "source": [
    "floor_cat = []\n",
    "for row in range(0, df.shape[0]):\n",
    "    if df['mid'][row] <= ceil(0.25 * df['max_floor_lvl'][row]):\n",
    "        floor_cat.append('lower') \n",
    "    elif df['mid'][row] < floor(0.75 * df['max_floor_lvl'][row]):\n",
    "        floor_cat.append('middle')\n",
    "    elif df['mid'][row] >= floor(0.75 * df['max_floor_lvl'][row]):\n",
    "        floor_cat.append('upper')\n",
    "df['floor_cat'] = floor_cat"
   ]
  },
  {
   "cell_type": "markdown",
   "id": "071d0416",
   "metadata": {},
   "source": [
    "demand: it is the culmination of all the different 'sold' columns. However weightage was applied to make it a more realistic representation of the market."
   ]
  },
  {
   "cell_type": "code",
   "execution_count": 9,
   "id": "6481fbc2",
   "metadata": {},
   "outputs": [],
   "source": [
    "# More weightage has been given to 3,4 and 5 rooms sold because they form the larger market share out of the rest of them\n",
    "df['demand'] = (0.025*df['1room_sold'])+\\\n",
    "(0.05*df['2room_sold'])+\\\n",
    "(0.2*df['3room_sold'])+\\\n",
    "(0.3*df['4room_sold'])+\\\n",
    "(0.3*df['5room_sold'])+\\\n",
    "(0.05*df['exec_sold'])+\\\n",
    "(0.05*df['multigen_sold'])+\\\n",
    "(0.025*df['studio_apartment_sold'])"
   ]
  },
  {
   "cell_type": "markdown",
   "id": "67601ef1",
   "metadata": {},
   "source": [
    "amenities_within_1km: to group the 'Malls_Within_1km' and the 'Hawkers_Within_1km' together"
   ]
  },
  {
   "cell_type": "code",
   "execution_count": 10,
   "id": "51f826dd",
   "metadata": {},
   "outputs": [],
   "source": [
    "df['amenities_within_1km'] = df['Mall_Within_1km'] + df['Hawker_Within_1km']"
   ]
  },
  {
   "cell_type": "markdown",
   "id": "b34ea045",
   "metadata": {},
   "source": [
    "mrt development: To give a ranking based on how much the development of an MRT station actually drives resale price.\n",
    "There were 2 steps. First doing research and mapping out when each mrt station was built and then comparing them to the transaction year."
   ]
  },
  {
   "cell_type": "code",
   "execution_count": 14,
   "id": "a6f9860d",
   "metadata": {},
   "outputs": [],
   "source": [
    "# Part 1: Getting the years the mrt stations were built. For stations that underwent revelopment\n",
    "#  to include more lines, the later year was appended\n",
    "mrt_year_list = []\n",
    "for mrt in df['mrt_name']:\n",
    "    if mrt.lower() in ('yio chu kang', 'ang mo kio', 'braddell', 'toa payoh', 'novena', 'orchard', 'somerset', 'dhoby ghaut',\n",
    "                       'city hall', 'raffles place', 'tanjong pagar'):\n",
    "        mrt_year_list.append(1987)\n",
    "    elif mrt.lower() in ('khatib', 'yishun', 'tiong bahru', 'redhill', 'queenstown', 'commonwealth', 'clementi',\n",
    "                         'jurong east', 'chinese garden', 'lakeside'):\n",
    "        mrt_year_list.append(1988)\n",
    "    elif mrt.lower() in ('bugis', 'lavender', 'kallang', 'aljunied', 'paya lebar', 'eunos', 'kembangan', 'bedok', 'tanah merah', 'marina bay',\n",
    "                         'simei', 'pasir ris'):\n",
    "        mrt_year_list.append(1989)\n",
    "    elif mrt.lower() in ('boon lay'):\n",
    "        mrt_year_list.append(1990)\n",
    "    elif mrt.lower() in ('admiralty', 'sembawang', 'marsiling', 'kranji', 'yew tee', 'choa chu kang', 'bukit gombak', 'bukit batok'):\n",
    "        mrt_year_list.append(1996)\n",
    "    elif mrt.lower() in ('dover'):\n",
    "        mrt_year_list.append(2001)\n",
    "    elif mrt.lower() in ('changi airport'):\n",
    "        mrt_year_list.append(2002)\n",
    "    elif mrt.lower() in ('clarke quay', 'farrer park', 'boon keng', 'potong pasir',\n",
    "                         'kovan', 'hougang', 'sengkang', 'punggol'):\n",
    "        mrt_year_list.append(2003)\n",
    "    elif mrt.lower() in ('buangkok'):\n",
    "        mrt_year_list.append(2006)\n",
    "    elif mrt.lower() in ('bartley', 'marymount', 'lorong chuan', 'bishan', 'serangoon'):\n",
    "        mrt_year_list.append(2009)\n",
    "    elif mrt.lower() in ('bras basah', 'esplanade', 'promenade', 'nicoll highway', 'stadium', 'mountbatten', 'dakota', 'tai seng', \n",
    "                         'pioneer', 'joo koon'):\n",
    "        mrt_year_list.append(2010)    \n",
    "    elif mrt.lower() in ('botanic gardens', 'farrer road', 'holland village', 'one-north', 'kent ridge', 'haw par villa', \n",
    "                         'pasir panjang', 'labrador park', 'telok blangah', 'woodleigh', 'buona vista', 'harbourfront'):\n",
    "        mrt_year_list.append(2011)\n",
    "    elif mrt.lower() in ('bayfront', 'outram park'):\n",
    "        mrt_year_list.append(2012)\n",
    "    elif mrt.lower() in ('downtown', 'telok ayer'):\n",
    "        mrt_year_list.append(2013)\n",
    "    elif mrt.lower() in ('rochor', 'stevens', 'tan kah kee', 'sixth avenue', 'king albert park', 'beauty world', 'hillview', 'cashew',\n",
    "                         'bukit panjang', 'chinatown', 'little india'):\n",
    "        mrt_year_list.append(2015)\n",
    "    elif mrt.lower() in ('fort canning', 'bencoolen', 'jalan besar', 'bendemeer', 'geylang bahru', 'mattar', 'ubi', 'kaki bukit',\n",
    "                         'bedok north', 'bedok reservoir', 'tampines west', 'tampines east', 'upper changi', 'gul circle', \n",
    "                         'tuas crescent', 'tuas west road', 'tuas link', 'newton', 'macpherson', 'tampines', 'expo'):\n",
    "        mrt_year_list.append(2017)\n",
    "    elif mrt.lower() in ('canberra'):\n",
    "        mrt_year_list.append(2019)\n",
    "    elif mrt.lower() in ('woodlands north', 'woodlands south'):\n",
    "        mrt_year_list.append(2020)\n",
    "    elif mrt.lower() in ('springleaf', 'lentor', 'mayflower', 'brighthill', 'upper thomson', 'woodlands', 'caldecott'):\n",
    "        mrt_year_list.append(2021)\n",
    "    elif mrt.lower() in ('napier', 'orchard boulevard', 'great world', 'havelock', 'maxwell', 'shenton way', 'gardens by the bay'):\n",
    "        mrt_year_list.append(2022)\n",
    "\n",
    "df['mrt_built_year'] = mrt_year_list"
   ]
  },
  {
   "cell_type": "code",
   "execution_count": 15,
   "id": "50580cae",
   "metadata": {},
   "outputs": [],
   "source": [
    "mrt_development = []\n",
    "for row in range(0, df.shape[0]):\n",
    "    if (df['mrt_built_year'][row] - df['Tranc_Year'][row]) > 0: \n",
    "        mrt_development.append(5)   # mrt not built yet \n",
    "    elif (df['mrt_built_year'][row] - df['Tranc_Year'][row]) >= -2: \n",
    "        mrt_development.append(4)   # mrt built but within 2 years of sale\n",
    "    elif (df['mrt_built_year'][row] - df['Tranc_Year'][row]) >= -5: \n",
    "        mrt_development.append(3)   # mrt built but within 5 years of sale\n",
    "    elif (df['mrt_built_year'][row] - df['Tranc_Year'][row]) >= -7: \n",
    "        mrt_development.append(2)   # mrt built but within 7 years of sale\n",
    "    else:\n",
    "        mrt_development .append(1)   # the development of the mrt should not matter anymore\n",
    "\n",
    "df['mrt_development'] = mrt_development\n"
   ]
  },
  {
   "cell_type": "markdown",
   "id": "689a32cc",
   "metadata": {},
   "source": [
    " dist_nearest_top_school: it is the distance in meters to the nearest top school"
   ]
  },
  {
   "cell_type": "code",
   "execution_count": 20,
   "id": "86a19ebc",
   "metadata": {},
   "outputs": [
    {
     "data": {
      "application/vnd.microsoft.datawrangler.viewer.v0+json": {
       "columns": [
        {
         "name": "index",
         "rawType": "int64",
         "type": "integer"
        },
        {
         "name": "Town",
         "rawType": "object",
         "type": "string"
        },
        {
         "name": "School Name",
         "rawType": "object",
         "type": "string"
        },
        {
         "name": "2C Vacancy",
         "rawType": "int64",
         "type": "integer"
        },
        {
         "name": "2C Subscription",
         "rawType": "int64",
         "type": "integer"
        },
        {
         "name": "Subscription Rate",
         "rawType": "object",
         "type": "string"
        },
        {
         "name": "Top School",
         "rawType": "int64",
         "type": "integer"
        },
        {
         "name": "lat",
         "rawType": "float64",
         "type": "float"
        },
        {
         "name": "long",
         "rawType": "float64",
         "type": "float"
        }
       ],
       "ref": "e12e5dbd-6a89-4fa3-ab2c-236219629b80",
       "rows": [
        [
         "0",
         "Ang Mo Kio",
         "CHIJ St. Nicholas GirlsÄô",
         "20",
         "61",
         "305.00%",
         "1",
         "1.3734491",
         "103.8340777"
        ],
        [
         "1",
         "Bedok",
         "Red Swastika",
         "25",
         "77",
         "308.00%",
         "1",
         "1.3336412",
         "103.9346186"
        ],
        [
         "2",
         "Bedok",
         "Temasek",
         "30",
         "95",
         "316.70%",
         "1",
         "1.2734044",
         "103.8179662"
        ],
        [
         "3",
         "Bishan",
         "Ai Tong",
         "20",
         "66",
         "330.00%",
         "1",
         "1.3607126",
         "103.8330175"
        ],
        [
         "4",
         "Bishan",
         "Catholic High",
         "21",
         "48",
         "228.60%",
         "1",
         "1.3548572",
         "103.8449949"
        ]
       ],
       "shape": {
        "columns": 8,
        "rows": 5
       }
      },
      "text/html": [
       "<div>\n",
       "<style scoped>\n",
       "    .dataframe tbody tr th:only-of-type {\n",
       "        vertical-align: middle;\n",
       "    }\n",
       "\n",
       "    .dataframe tbody tr th {\n",
       "        vertical-align: top;\n",
       "    }\n",
       "\n",
       "    .dataframe thead th {\n",
       "        text-align: right;\n",
       "    }\n",
       "</style>\n",
       "<table border=\"1\" class=\"dataframe\">\n",
       "  <thead>\n",
       "    <tr style=\"text-align: right;\">\n",
       "      <th></th>\n",
       "      <th>Town</th>\n",
       "      <th>School Name</th>\n",
       "      <th>2C Vacancy</th>\n",
       "      <th>2C Subscription</th>\n",
       "      <th>Subscription Rate</th>\n",
       "      <th>Top School</th>\n",
       "      <th>lat</th>\n",
       "      <th>long</th>\n",
       "    </tr>\n",
       "  </thead>\n",
       "  <tbody>\n",
       "    <tr>\n",
       "      <th>0</th>\n",
       "      <td>Ang Mo Kio</td>\n",
       "      <td>CHIJ St. Nicholas GirlsÄô</td>\n",
       "      <td>20</td>\n",
       "      <td>61</td>\n",
       "      <td>305.00%</td>\n",
       "      <td>1</td>\n",
       "      <td>1.373449</td>\n",
       "      <td>103.834078</td>\n",
       "    </tr>\n",
       "    <tr>\n",
       "      <th>1</th>\n",
       "      <td>Bedok</td>\n",
       "      <td>Red Swastika</td>\n",
       "      <td>25</td>\n",
       "      <td>77</td>\n",
       "      <td>308.00%</td>\n",
       "      <td>1</td>\n",
       "      <td>1.333641</td>\n",
       "      <td>103.934619</td>\n",
       "    </tr>\n",
       "    <tr>\n",
       "      <th>2</th>\n",
       "      <td>Bedok</td>\n",
       "      <td>Temasek</td>\n",
       "      <td>30</td>\n",
       "      <td>95</td>\n",
       "      <td>316.70%</td>\n",
       "      <td>1</td>\n",
       "      <td>1.273404</td>\n",
       "      <td>103.817966</td>\n",
       "    </tr>\n",
       "    <tr>\n",
       "      <th>3</th>\n",
       "      <td>Bishan</td>\n",
       "      <td>Ai Tong</td>\n",
       "      <td>20</td>\n",
       "      <td>66</td>\n",
       "      <td>330.00%</td>\n",
       "      <td>1</td>\n",
       "      <td>1.360713</td>\n",
       "      <td>103.833017</td>\n",
       "    </tr>\n",
       "    <tr>\n",
       "      <th>4</th>\n",
       "      <td>Bishan</td>\n",
       "      <td>Catholic High</td>\n",
       "      <td>21</td>\n",
       "      <td>48</td>\n",
       "      <td>228.60%</td>\n",
       "      <td>1</td>\n",
       "      <td>1.354857</td>\n",
       "      <td>103.844995</td>\n",
       "    </tr>\n",
       "  </tbody>\n",
       "</table>\n",
       "</div>"
      ],
      "text/plain": [
       "         Town                 School Name  2C Vacancy  2C Subscription  \\\n",
       "0  Ang Mo Kio  CHIJ St. Nicholas GirlsÄô          20               61   \n",
       "1       Bedok                Red Swastika          25               77   \n",
       "2       Bedok                     Temasek          30               95   \n",
       "3      Bishan                     Ai Tong          20               66   \n",
       "4      Bishan               Catholic High          21               48   \n",
       "\n",
       "  Subscription Rate  Top School       lat        long  \n",
       "0           305.00%           1  1.373449  103.834078  \n",
       "1           308.00%           1  1.333641  103.934619  \n",
       "2           316.70%           1  1.273404  103.817966  \n",
       "3           330.00%           1  1.360713  103.833017  \n",
       "4           228.60%           1  1.354857  103.844995  "
      ]
     },
     "execution_count": 20,
     "metadata": {},
     "output_type": "execute_result"
    }
   ],
   "source": [
    "top_sch_data = pd.read_csv('top_sch_coords.csv', encoding='latin1')\n",
    "top_sch_data.head()"
   ]
  },
  {
   "cell_type": "code",
   "execution_count": 23,
   "id": "83bac457",
   "metadata": {},
   "outputs": [],
   "source": [
    "for df_index, df_row in df.iterrows():\n",
    "    coord_trans = (df_row['Latitude'], df_row['Longitude'])\n",
    "    dist_list = []\n",
    "    for top_sch_data_index, top_sch_data_row in top_sch_data.iterrows():\n",
    "        coord_top_sch1 = (top_sch_data_row['lat'], top_sch_data_row['long'])\n",
    "        distance_km = geodesic(coord_trans, coord_top_sch1).kilometers\n",
    "        dist_list.append(distance_km)\n",
    "    min_dist = min(dist_list)\n",
    "    df.at[df_index, 'dist_nearest_top_school'] = min_dist"
   ]
  },
  {
   "cell_type": "code",
   "execution_count": 24,
   "id": "fce303e2",
   "metadata": {},
   "outputs": [
    {
     "data": {
      "application/vnd.microsoft.datawrangler.viewer.v0+json": {
       "columns": [
        {
         "name": "index",
         "rawType": "int64",
         "type": "integer"
        },
        {
         "name": "town",
         "rawType": "object",
         "type": "string"
        },
        {
         "name": "flat_type",
         "rawType": "object",
         "type": "string"
        },
        {
         "name": "storey_range",
         "rawType": "object",
         "type": "string"
        },
        {
         "name": "floor_area_sqm",
         "rawType": "float64",
         "type": "float"
        },
        {
         "name": "lease_commence_date",
         "rawType": "int64",
         "type": "integer"
        },
        {
         "name": "resale_price",
         "rawType": "float64",
         "type": "float"
        },
        {
         "name": "Tranc_Year",
         "rawType": "int64",
         "type": "integer"
        },
        {
         "name": "Tranc_Month",
         "rawType": "int64",
         "type": "integer"
        },
        {
         "name": "mid",
         "rawType": "int64",
         "type": "integer"
        },
        {
         "name": "hdb_age",
         "rawType": "int64",
         "type": "integer"
        },
        {
         "name": "max_floor_lvl",
         "rawType": "int64",
         "type": "integer"
        },
        {
         "name": "1room_sold",
         "rawType": "int64",
         "type": "integer"
        },
        {
         "name": "2room_sold",
         "rawType": "int64",
         "type": "integer"
        },
        {
         "name": "3room_sold",
         "rawType": "int64",
         "type": "integer"
        },
        {
         "name": "4room_sold",
         "rawType": "int64",
         "type": "integer"
        },
        {
         "name": "5room_sold",
         "rawType": "int64",
         "type": "integer"
        },
        {
         "name": "exec_sold",
         "rawType": "int64",
         "type": "integer"
        },
        {
         "name": "multigen_sold",
         "rawType": "int64",
         "type": "integer"
        },
        {
         "name": "studio_apartment_sold",
         "rawType": "int64",
         "type": "integer"
        },
        {
         "name": "postal",
         "rawType": "object",
         "type": "string"
        },
        {
         "name": "Latitude",
         "rawType": "float64",
         "type": "float"
        },
        {
         "name": "Longitude",
         "rawType": "float64",
         "type": "float"
        },
        {
         "name": "Mall_Nearest_Distance",
         "rawType": "float64",
         "type": "float"
        },
        {
         "name": "Mall_Within_1km",
         "rawType": "int64",
         "type": "integer"
        },
        {
         "name": "Hawker_Nearest_Distance",
         "rawType": "float64",
         "type": "float"
        },
        {
         "name": "Hawker_Within_1km",
         "rawType": "int64",
         "type": "integer"
        },
        {
         "name": "mrt_nearest_distance",
         "rawType": "float64",
         "type": "float"
        },
        {
         "name": "mrt_name",
         "rawType": "object",
         "type": "string"
        },
        {
         "name": "bus_stop_nearest_distance",
         "rawType": "float64",
         "type": "float"
        },
        {
         "name": "pri_sch_nearest_distance",
         "rawType": "float64",
         "type": "float"
        },
        {
         "name": "pri_sch_name",
         "rawType": "object",
         "type": "string"
        },
        {
         "name": "vacancy",
         "rawType": "int64",
         "type": "integer"
        },
        {
         "name": "pri_sch_affiliation",
         "rawType": "int64",
         "type": "integer"
        },
        {
         "name": "pri_sch_latitude",
         "rawType": "float64",
         "type": "float"
        },
        {
         "name": "pri_sch_longitude",
         "rawType": "float64",
         "type": "float"
        },
        {
         "name": "dist_nearest_top_school",
         "rawType": "float64",
         "type": "float"
        }
       ],
       "ref": "f23ca0b3-9edb-448a-85d3-8f97ee5ec9d5",
       "rows": [
        [
         "0",
         "KALLANG/WHAMPOA",
         "4 ROOM",
         "10 TO 12",
         "90.0",
         "2006",
         "680000.0",
         "2016",
         "5",
         "11",
         "15",
         "25",
         "0",
         "0",
         "0",
         "96",
         "46",
         "0",
         "0",
         "0",
         "382003",
         "1.314298734",
         "103.8728282",
         "1094.090418",
         "0",
         "154.7533573",
         "3",
         "330.083069",
         "Kallang",
         "29.42739466",
         "1138.633422",
         "Geylang Methodist School",
         "78",
         "1",
         "1.317658971",
         "103.8825037",
         "1.8955404509021652"
        ],
        [
         "1",
         "BISHAN",
         "5 ROOM",
         "07 TO 09",
         "130.0",
         "1987",
         "665000.0",
         "2012",
         "7",
         "8",
         "34",
         "9",
         "0",
         "0",
         "0",
         "56",
         "56",
         "0",
         "0",
         "0",
         "570153",
         "1.346085959",
         "103.8550783",
         "866.9414477",
         "1",
         "640.1519255",
         "1",
         "903.6597029",
         "Bishan",
         "58.20776077",
         "415.6073571",
         "Kuo Chuan Presbyterian Primary School",
         "45",
         "1",
         "1.349783074",
         "103.8545292",
         "0.9931192892632935"
        ],
        [
         "2",
         "BUKIT BATOK",
         "EXECUTIVE",
         "13 TO 15",
         "144.0",
         "1997",
         "838000.0",
         "2013",
         "7",
         "14",
         "24",
         "16",
         "0",
         "0",
         "0",
         "0",
         "30",
         "60",
         "0",
         "0",
         "651289",
         "1.343866875",
         "103.760535",
         "1459.579948",
         "0",
         "1762.082341",
         "0",
         "1334.251197",
         "Bukit Batok",
         "214.7478599",
         "498.8490387",
         "Keming Primary School",
         "39",
         "0",
         "1.345245053",
         "103.7562645",
         "1.8582993186632424"
        ],
        [
         "3",
         "BISHAN",
         "4 ROOM",
         "01 TO 05",
         "103.0",
         "1992",
         "550000.0",
         "2012",
         "4",
         "3",
         "29",
         "11",
         "0",
         "0",
         "0",
         "68",
         "7",
         "0",
         "0",
         "0",
         "570232",
         "1.358245182",
         "103.8455043",
         "950.1751993",
         "1",
         "726.2152623",
         "1",
         "907.4534839",
         "Bishan",
         "43.39652075",
         "389.5155278",
         "Catholic High School",
         "20",
         "1",
         "1.354788877",
         "103.8449341",
         "0.37889082935161256"
        ],
        [
         "4",
         "YISHUN",
         "4 ROOM",
         "01 TO 03",
         "83.0",
         "1987",
         "298000.0",
         "2017",
         "12",
         "2",
         "34",
         "4",
         "0",
         "0",
         "0",
         "30",
         "18",
         "0",
         "0",
         "0",
         "760876",
         "1.414744781",
         "103.8355316",
         "729.7718948",
         "1",
         "1540.151439",
         "0",
         "412.3430317",
         "Khatib",
         "129.4227519",
         "401.2005842",
         "Naval Base Primary School",
         "74",
         "0",
         "1.416280153",
         "103.8387977",
         "0.9089347764189684"
        ]
       ],
       "shape": {
        "columns": 36,
        "rows": 5
       }
      },
      "text/html": [
       "<div>\n",
       "<style scoped>\n",
       "    .dataframe tbody tr th:only-of-type {\n",
       "        vertical-align: middle;\n",
       "    }\n",
       "\n",
       "    .dataframe tbody tr th {\n",
       "        vertical-align: top;\n",
       "    }\n",
       "\n",
       "    .dataframe thead th {\n",
       "        text-align: right;\n",
       "    }\n",
       "</style>\n",
       "<table border=\"1\" class=\"dataframe\">\n",
       "  <thead>\n",
       "    <tr style=\"text-align: right;\">\n",
       "      <th></th>\n",
       "      <th>town</th>\n",
       "      <th>flat_type</th>\n",
       "      <th>storey_range</th>\n",
       "      <th>floor_area_sqm</th>\n",
       "      <th>lease_commence_date</th>\n",
       "      <th>resale_price</th>\n",
       "      <th>Tranc_Year</th>\n",
       "      <th>Tranc_Month</th>\n",
       "      <th>mid</th>\n",
       "      <th>hdb_age</th>\n",
       "      <th>...</th>\n",
       "      <th>mrt_nearest_distance</th>\n",
       "      <th>mrt_name</th>\n",
       "      <th>bus_stop_nearest_distance</th>\n",
       "      <th>pri_sch_nearest_distance</th>\n",
       "      <th>pri_sch_name</th>\n",
       "      <th>vacancy</th>\n",
       "      <th>pri_sch_affiliation</th>\n",
       "      <th>pri_sch_latitude</th>\n",
       "      <th>pri_sch_longitude</th>\n",
       "      <th>dist_nearest_top_school</th>\n",
       "    </tr>\n",
       "  </thead>\n",
       "  <tbody>\n",
       "    <tr>\n",
       "      <th>0</th>\n",
       "      <td>KALLANG/WHAMPOA</td>\n",
       "      <td>4 ROOM</td>\n",
       "      <td>10 TO 12</td>\n",
       "      <td>90.0</td>\n",
       "      <td>2006</td>\n",
       "      <td>680000.0</td>\n",
       "      <td>2016</td>\n",
       "      <td>5</td>\n",
       "      <td>11</td>\n",
       "      <td>15</td>\n",
       "      <td>...</td>\n",
       "      <td>330.083069</td>\n",
       "      <td>Kallang</td>\n",
       "      <td>29.427395</td>\n",
       "      <td>1138.633422</td>\n",
       "      <td>Geylang Methodist School</td>\n",
       "      <td>78</td>\n",
       "      <td>1</td>\n",
       "      <td>1.317659</td>\n",
       "      <td>103.882504</td>\n",
       "      <td>1.895540</td>\n",
       "    </tr>\n",
       "    <tr>\n",
       "      <th>1</th>\n",
       "      <td>BISHAN</td>\n",
       "      <td>5 ROOM</td>\n",
       "      <td>07 TO 09</td>\n",
       "      <td>130.0</td>\n",
       "      <td>1987</td>\n",
       "      <td>665000.0</td>\n",
       "      <td>2012</td>\n",
       "      <td>7</td>\n",
       "      <td>8</td>\n",
       "      <td>34</td>\n",
       "      <td>...</td>\n",
       "      <td>903.659703</td>\n",
       "      <td>Bishan</td>\n",
       "      <td>58.207761</td>\n",
       "      <td>415.607357</td>\n",
       "      <td>Kuo Chuan Presbyterian Primary School</td>\n",
       "      <td>45</td>\n",
       "      <td>1</td>\n",
       "      <td>1.349783</td>\n",
       "      <td>103.854529</td>\n",
       "      <td>0.993119</td>\n",
       "    </tr>\n",
       "    <tr>\n",
       "      <th>2</th>\n",
       "      <td>BUKIT BATOK</td>\n",
       "      <td>EXECUTIVE</td>\n",
       "      <td>13 TO 15</td>\n",
       "      <td>144.0</td>\n",
       "      <td>1997</td>\n",
       "      <td>838000.0</td>\n",
       "      <td>2013</td>\n",
       "      <td>7</td>\n",
       "      <td>14</td>\n",
       "      <td>24</td>\n",
       "      <td>...</td>\n",
       "      <td>1334.251197</td>\n",
       "      <td>Bukit Batok</td>\n",
       "      <td>214.747860</td>\n",
       "      <td>498.849039</td>\n",
       "      <td>Keming Primary School</td>\n",
       "      <td>39</td>\n",
       "      <td>0</td>\n",
       "      <td>1.345245</td>\n",
       "      <td>103.756265</td>\n",
       "      <td>1.858299</td>\n",
       "    </tr>\n",
       "    <tr>\n",
       "      <th>3</th>\n",
       "      <td>BISHAN</td>\n",
       "      <td>4 ROOM</td>\n",
       "      <td>01 TO 05</td>\n",
       "      <td>103.0</td>\n",
       "      <td>1992</td>\n",
       "      <td>550000.0</td>\n",
       "      <td>2012</td>\n",
       "      <td>4</td>\n",
       "      <td>3</td>\n",
       "      <td>29</td>\n",
       "      <td>...</td>\n",
       "      <td>907.453484</td>\n",
       "      <td>Bishan</td>\n",
       "      <td>43.396521</td>\n",
       "      <td>389.515528</td>\n",
       "      <td>Catholic High School</td>\n",
       "      <td>20</td>\n",
       "      <td>1</td>\n",
       "      <td>1.354789</td>\n",
       "      <td>103.844934</td>\n",
       "      <td>0.378891</td>\n",
       "    </tr>\n",
       "    <tr>\n",
       "      <th>4</th>\n",
       "      <td>YISHUN</td>\n",
       "      <td>4 ROOM</td>\n",
       "      <td>01 TO 03</td>\n",
       "      <td>83.0</td>\n",
       "      <td>1987</td>\n",
       "      <td>298000.0</td>\n",
       "      <td>2017</td>\n",
       "      <td>12</td>\n",
       "      <td>2</td>\n",
       "      <td>34</td>\n",
       "      <td>...</td>\n",
       "      <td>412.343032</td>\n",
       "      <td>Khatib</td>\n",
       "      <td>129.422752</td>\n",
       "      <td>401.200584</td>\n",
       "      <td>Naval Base Primary School</td>\n",
       "      <td>74</td>\n",
       "      <td>0</td>\n",
       "      <td>1.416280</td>\n",
       "      <td>103.838798</td>\n",
       "      <td>0.908935</td>\n",
       "    </tr>\n",
       "  </tbody>\n",
       "</table>\n",
       "<p>5 rows × 36 columns</p>\n",
       "</div>"
      ],
      "text/plain": [
       "              town  flat_type storey_range  floor_area_sqm  \\\n",
       "0  KALLANG/WHAMPOA     4 ROOM     10 TO 12            90.0   \n",
       "1           BISHAN     5 ROOM     07 TO 09           130.0   \n",
       "2      BUKIT BATOK  EXECUTIVE     13 TO 15           144.0   \n",
       "3           BISHAN     4 ROOM     01 TO 05           103.0   \n",
       "4           YISHUN     4 ROOM     01 TO 03            83.0   \n",
       "\n",
       "   lease_commence_date  resale_price  Tranc_Year  Tranc_Month  mid  hdb_age  \\\n",
       "0                 2006      680000.0        2016            5   11       15   \n",
       "1                 1987      665000.0        2012            7    8       34   \n",
       "2                 1997      838000.0        2013            7   14       24   \n",
       "3                 1992      550000.0        2012            4    3       29   \n",
       "4                 1987      298000.0        2017           12    2       34   \n",
       "\n",
       "   ...  mrt_nearest_distance     mrt_name  bus_stop_nearest_distance  \\\n",
       "0  ...            330.083069      Kallang                  29.427395   \n",
       "1  ...            903.659703       Bishan                  58.207761   \n",
       "2  ...           1334.251197  Bukit Batok                 214.747860   \n",
       "3  ...            907.453484       Bishan                  43.396521   \n",
       "4  ...            412.343032       Khatib                 129.422752   \n",
       "\n",
       "   pri_sch_nearest_distance                           pri_sch_name  vacancy  \\\n",
       "0               1138.633422               Geylang Methodist School       78   \n",
       "1                415.607357  Kuo Chuan Presbyterian Primary School       45   \n",
       "2                498.849039                  Keming Primary School       39   \n",
       "3                389.515528                   Catholic High School       20   \n",
       "4                401.200584              Naval Base Primary School       74   \n",
       "\n",
       "   pri_sch_affiliation  pri_sch_latitude  pri_sch_longitude  \\\n",
       "0                    1          1.317659         103.882504   \n",
       "1                    1          1.349783         103.854529   \n",
       "2                    0          1.345245         103.756265   \n",
       "3                    1          1.354789         103.844934   \n",
       "4                    0          1.416280         103.838798   \n",
       "\n",
       "  dist_nearest_top_school  \n",
       "0                1.895540  \n",
       "1                0.993119  \n",
       "2                1.858299  \n",
       "3                0.378891  \n",
       "4                0.908935  \n",
       "\n",
       "[5 rows x 36 columns]"
      ]
     },
     "execution_count": 24,
     "metadata": {},
     "output_type": "execute_result"
    }
   ],
   "source": [
    "df.head()"
   ]
  },
  {
   "cell_type": "code",
   "execution_count": 25,
   "id": "82811557",
   "metadata": {},
   "outputs": [],
   "source": [
    "df.to_csv('with_featured_columns.csv')"
   ]
  },
  {
   "cell_type": "markdown",
   "id": "07e93de9",
   "metadata": {},
   "source": [
    "Featured Engineering done through Excel and/or Excel PivotTables\n",
    "\n",
    "1. affluent_index: It is basically ranking the average price by town, ranking the floor category and ranking the flat type.\n",
    "2. amenity_proximity_score: It is the sum of the average distances between the nearest Mall and Hawker\n",
    "3. transport_proximity_score: It is the sum of the average distances between the nearest MRT and Bus Stop\n",
    "4. avg_subs_sch: It is the average subscription rate of the schools in the same town\n",
    "5. num_top_sch: It is the total number of top schools in the town. And top schools is based off if the subsriptions of a school    exceed 200%\n",
    "6. dist_nearest_top_school: it is the distance in meters to the nearest top school \n",
    "7. CPI: Consumer Price Index by Year\n",
    "8. GDPM: Gross Domestic Product by Quarter\n",
    "9. MHI: Median Household Income by Quarter\n",
    "\n",
    "After exporting, more cleaning was done to remove the raw columns that were used to derive the engineered features"
   ]
  },
  {
   "cell_type": "markdown",
   "id": "7beb5448",
   "metadata": {},
   "source": [
    "The final csv is contained in 'data.csv' "
   ]
  }
 ],
 "metadata": {
  "kernelspec": {
   "display_name": "Python 3",
   "language": "python",
   "name": "python3"
  },
  "language_info": {
   "codemirror_mode": {
    "name": "ipython",
    "version": 3
   },
   "file_extension": ".py",
   "mimetype": "text/x-python",
   "name": "python",
   "nbconvert_exporter": "python",
   "pygments_lexer": "ipython3",
   "version": "3.11.5"
  }
 },
 "nbformat": 4,
 "nbformat_minor": 5
}
