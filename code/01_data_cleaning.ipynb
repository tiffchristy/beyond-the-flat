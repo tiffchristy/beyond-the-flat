{
 "cells": [
  {
   "cell_type": "markdown",
   "id": "b5e93a17",
   "metadata": {},
   "source": [
    "# Importing the relevant packages"
   ]
  },
  {
   "cell_type": "code",
   "execution_count": 1,
   "id": "3e2ccba9",
   "metadata": {},
   "outputs": [],
   "source": [
    "import pandas as pd"
   ]
  },
  {
   "cell_type": "markdown",
   "id": "58cf080d",
   "metadata": {},
   "source": [
    "## Reading in the csv for manipulation: raw data is called 'train.csv'"
   ]
  },
  {
   "cell_type": "code",
   "execution_count": 2,
   "id": "fcadc280",
   "metadata": {},
   "outputs": [
    {
     "name": "stderr",
     "output_type": "stream",
     "text": [
      "C:\\Users\\Admin\\AppData\\Local\\Temp\\ipykernel_6716\\3931147881.py:1: DtypeWarning: Columns (42) have mixed types. Specify dtype option on import or set low_memory=False.\n",
      "  hdb_data = pd.read_csv(\"C:/Users/Admin/Desktop/GA DAB/Projects/Project 3 Data Sprint/data/train.csv\")\n"
     ]
    },
    {
     "name": "stdout",
     "output_type": "stream",
     "text": [
      "<class 'pandas.core.frame.DataFrame'>\n",
      "RangeIndex: 150634 entries, 0 to 150633\n",
      "Data columns (total 78 columns):\n",
      " #   Column                     Non-Null Count   Dtype  \n",
      "---  ------                     --------------   -----  \n",
      " 0   id                         150634 non-null  int64  \n",
      " 1   Tranc_YearMonth            150634 non-null  object \n",
      " 2   town                       150634 non-null  object \n",
      " 3   flat_type                  150634 non-null  object \n",
      " 4   block                      150634 non-null  object \n",
      " 5   street_name                150634 non-null  object \n",
      " 6   storey_range               150634 non-null  object \n",
      " 7   floor_area_sqm             150634 non-null  float64\n",
      " 8   flat_model                 150634 non-null  object \n",
      " 9   lease_commence_date        150634 non-null  int64  \n",
      " 10  resale_price               150634 non-null  float64\n",
      " 11  Tranc_Year                 150634 non-null  int64  \n",
      " 12  Tranc_Month                150634 non-null  int64  \n",
      " 13  mid_storey                 150634 non-null  int64  \n",
      " 14  lower                      150634 non-null  int64  \n",
      " 15  upper                      150634 non-null  int64  \n",
      " 16  mid                        150634 non-null  int64  \n",
      " 17  full_flat_type             150634 non-null  object \n",
      " 18  address                    150634 non-null  object \n",
      " 19  floor_area_sqft            150634 non-null  float64\n",
      " 20  price_per_sqft             150634 non-null  float64\n",
      " 21  hdb_age                    150634 non-null  int64  \n",
      " 22  max_floor_lvl              150634 non-null  int64  \n",
      " 23  year_completed             150634 non-null  int64  \n",
      " 24  residential                150634 non-null  object \n",
      " 25  commercial                 150634 non-null  object \n",
      " 26  market_hawker              150634 non-null  object \n",
      " 27  multistorey_carpark        150634 non-null  object \n",
      " 28  precinct_pavilion          150634 non-null  object \n",
      " 29  total_dwelling_units       150634 non-null  int64  \n",
      " 30  1room_sold                 150634 non-null  int64  \n",
      " 31  2room_sold                 150634 non-null  int64  \n",
      " 32  3room_sold                 150634 non-null  int64  \n",
      " 33  4room_sold                 150634 non-null  int64  \n",
      " 34  5room_sold                 150634 non-null  int64  \n",
      " 35  exec_sold                  150634 non-null  int64  \n",
      " 36  multigen_sold              150634 non-null  int64  \n",
      " 37  studio_apartment_sold      150634 non-null  int64  \n",
      " 38  1room_rental               150634 non-null  int64  \n",
      " 39  2room_rental               150634 non-null  int64  \n",
      " 40  3room_rental               150634 non-null  int64  \n",
      " 41  other_room_rental          150634 non-null  int64  \n",
      " 42  postal                     150634 non-null  object \n",
      " 43  Latitude                   150634 non-null  float64\n",
      " 44  Longitude                  150634 non-null  float64\n",
      " 45  planning_area              150634 non-null  object \n",
      " 46  Mall_Nearest_Distance      149805 non-null  float64\n",
      " 47  Mall_Within_500m           57845 non-null   float64\n",
      " 48  Mall_Within_1km            125208 non-null  float64\n",
      " 49  Mall_Within_2km            148694 non-null  float64\n",
      " 50  Hawker_Nearest_Distance    150634 non-null  float64\n",
      " 51  Hawker_Within_500m         53244 non-null   float64\n",
      " 52  Hawker_Within_1km          89766 non-null   float64\n",
      " 53  Hawker_Within_2km          121432 non-null  float64\n",
      " 54  hawker_food_stalls         150634 non-null  int64  \n",
      " 55  hawker_market_stalls       150634 non-null  int64  \n",
      " 56  mrt_nearest_distance       150634 non-null  float64\n",
      " 57  mrt_name                   150634 non-null  object \n",
      " 58  bus_interchange            150634 non-null  int64  \n",
      " 59  mrt_interchange            150634 non-null  int64  \n",
      " 60  mrt_latitude               150634 non-null  float64\n",
      " 61  mrt_longitude              150634 non-null  float64\n",
      " 62  bus_stop_nearest_distance  150634 non-null  float64\n",
      " 63  bus_stop_name              150634 non-null  object \n",
      " 64  bus_stop_latitude          150634 non-null  float64\n",
      " 65  bus_stop_longitude         150634 non-null  float64\n",
      " 66  pri_sch_nearest_distance   150634 non-null  float64\n",
      " 67  pri_sch_name               150634 non-null  object \n",
      " 68  vacancy                    150634 non-null  int64  \n",
      " 69  pri_sch_affiliation        150634 non-null  int64  \n",
      " 70  pri_sch_latitude           150634 non-null  float64\n",
      " 71  pri_sch_longitude          150634 non-null  float64\n",
      " 72  sec_sch_nearest_dist       150634 non-null  float64\n",
      " 73  sec_sch_name               150634 non-null  object \n",
      " 74  cutoff_point               150634 non-null  int64  \n",
      " 75  affiliation                150634 non-null  int64  \n",
      " 76  sec_sch_latitude           150634 non-null  float64\n",
      " 77  sec_sch_longitude          150634 non-null  float64\n",
      "dtypes: float64(26), int64(32), object(20)\n",
      "memory usage: 89.6+ MB\n"
     ]
    }
   ],
   "source": [
    "hdb_data = pd.read_csv(\"C:/Users/Admin/Desktop/GA DAB/Projects/Project 3 Data Sprint/data/train.csv\")\n",
    "hdb_data.info()"
   ]
  },
  {
   "cell_type": "markdown",
   "id": "db0bf23a",
   "metadata": {},
   "source": [
    "## Checking the number of rows and columns"
   ]
  },
  {
   "cell_type": "code",
   "execution_count": 3,
   "id": "27f0145c",
   "metadata": {},
   "outputs": [
    {
     "data": {
      "text/plain": [
       "(150634, 78)"
      ]
     },
     "execution_count": 3,
     "metadata": {},
     "output_type": "execute_result"
    }
   ],
   "source": [
    "hdb_data.shape\n",
    "# There are 15,0634 rows and 78 columns"
   ]
  },
  {
   "cell_type": "markdown",
   "id": "0150cf2c",
   "metadata": {},
   "source": [
    "## Checking for null values. Do we need to clean them?"
   ]
  },
  {
   "cell_type": "code",
   "execution_count": 4,
   "id": "930d83a5",
   "metadata": {},
   "outputs": [
    {
     "data": {
      "application/vnd.microsoft.datawrangler.viewer.v0+json": {
       "columns": [
        {
         "name": "index",
         "rawType": "object",
         "type": "string"
        },
        {
         "name": "0",
         "rawType": "int64",
         "type": "integer"
        }
       ],
       "ref": "1eccba71-5ded-46f8-b5bc-52b9536ac71b",
       "rows": [
        [
         "Hawker_Within_500m",
         "97390"
        ],
        [
         "Mall_Within_500m",
         "92789"
        ],
        [
         "Hawker_Within_1km",
         "60868"
        ],
        [
         "Hawker_Within_2km",
         "29202"
        ],
        [
         "Mall_Within_1km",
         "25426"
        ],
        [
         "Mall_Within_2km",
         "1940"
        ],
        [
         "Mall_Nearest_Distance",
         "829"
        ],
        [
         "Hawker_Nearest_Distance",
         "0"
        ],
        [
         "mrt_nearest_distance",
         "0"
        ],
        [
         "hawker_market_stalls",
         "0"
        ],
        [
         "hawker_food_stalls",
         "0"
        ],
        [
         "id",
         "0"
        ],
        [
         "bus_interchange",
         "0"
        ],
        [
         "planning_area",
         "0"
        ],
        [
         "Longitude",
         "0"
        ],
        [
         "Latitude",
         "0"
        ],
        [
         "postal",
         "0"
        ],
        [
         "other_room_rental",
         "0"
        ],
        [
         "mrt_name",
         "0"
        ],
        [
         "mrt_interchange",
         "0"
        ],
        [
         "Tranc_YearMonth",
         "0"
        ],
        [
         "pri_sch_affiliation",
         "0"
        ],
        [
         "sec_sch_latitude",
         "0"
        ],
        [
         "affiliation",
         "0"
        ],
        [
         "cutoff_point",
         "0"
        ],
        [
         "sec_sch_name",
         "0"
        ],
        [
         "sec_sch_nearest_dist",
         "0"
        ],
        [
         "pri_sch_longitude",
         "0"
        ],
        [
         "pri_sch_latitude",
         "0"
        ],
        [
         "vacancy",
         "0"
        ],
        [
         "mrt_latitude",
         "0"
        ],
        [
         "pri_sch_name",
         "0"
        ],
        [
         "pri_sch_nearest_distance",
         "0"
        ],
        [
         "bus_stop_longitude",
         "0"
        ],
        [
         "bus_stop_latitude",
         "0"
        ],
        [
         "bus_stop_name",
         "0"
        ],
        [
         "bus_stop_nearest_distance",
         "0"
        ],
        [
         "mrt_longitude",
         "0"
        ],
        [
         "3room_rental",
         "0"
        ],
        [
         "2room_rental",
         "0"
        ],
        [
         "1room_rental",
         "0"
        ],
        [
         "resale_price",
         "0"
        ],
        [
         "full_flat_type",
         "0"
        ],
        [
         "mid",
         "0"
        ],
        [
         "upper",
         "0"
        ],
        [
         "lower",
         "0"
        ],
        [
         "mid_storey",
         "0"
        ],
        [
         "Tranc_Month",
         "0"
        ],
        [
         "Tranc_Year",
         "0"
        ],
        [
         "lease_commence_date",
         "0"
        ]
       ],
       "shape": {
        "columns": 1,
        "rows": 78
       }
      },
      "text/plain": [
       "Hawker_Within_500m    97390\n",
       "Mall_Within_500m      92789\n",
       "Hawker_Within_1km     60868\n",
       "Hawker_Within_2km     29202\n",
       "Mall_Within_1km       25426\n",
       "                      ...  \n",
       "commercial                0\n",
       "residential               0\n",
       "year_completed            0\n",
       "max_floor_lvl             0\n",
       "sec_sch_longitude         0\n",
       "Length: 78, dtype: int64"
      ]
     },
     "execution_count": 4,
     "metadata": {},
     "output_type": "execute_result"
    }
   ],
   "source": [
    "hdb_data.isnull().sum().sort_values(ascending=False)"
   ]
  },
  {
   "cell_type": "markdown",
   "id": "1e7fde25",
   "metadata": {},
   "source": [
    "## Imputation of null values"
   ]
  },
  {
   "cell_type": "markdown",
   "id": "d29b01a7",
   "metadata": {},
   "source": [
    "Filling the null values with 0. Why? Because the features with null values are indicating whether the respective amenitities are within the said distance. Therefore since these amenities fall outside of the distance, we can impute with 0."
   ]
  },
  {
   "cell_type": "code",
   "execution_count": 6,
   "id": "5851fa25",
   "metadata": {},
   "outputs": [
    {
     "name": "stdout",
     "output_type": "stream",
     "text": [
      "<class 'pandas.core.frame.DataFrame'>\n",
      "RangeIndex: 150634 entries, 0 to 150633\n",
      "Data columns (total 78 columns):\n",
      " #   Column                     Non-Null Count   Dtype  \n",
      "---  ------                     --------------   -----  \n",
      " 0   id                         150634 non-null  int64  \n",
      " 1   Tranc_YearMonth            150634 non-null  object \n",
      " 2   town                       150634 non-null  object \n",
      " 3   flat_type                  150634 non-null  object \n",
      " 4   block                      150634 non-null  object \n",
      " 5   street_name                150634 non-null  object \n",
      " 6   storey_range               150634 non-null  object \n",
      " 7   floor_area_sqm             150634 non-null  float64\n",
      " 8   flat_model                 150634 non-null  object \n",
      " 9   lease_commence_date        150634 non-null  int64  \n",
      " 10  resale_price               150634 non-null  float64\n",
      " 11  Tranc_Year                 150634 non-null  int64  \n",
      " 12  Tranc_Month                150634 non-null  int64  \n",
      " 13  mid_storey                 150634 non-null  int64  \n",
      " 14  lower                      150634 non-null  int64  \n",
      " 15  upper                      150634 non-null  int64  \n",
      " 16  mid                        150634 non-null  int64  \n",
      " 17  full_flat_type             150634 non-null  object \n",
      " 18  address                    150634 non-null  object \n",
      " 19  floor_area_sqft            150634 non-null  float64\n",
      " 20  price_per_sqft             150634 non-null  float64\n",
      " 21  hdb_age                    150634 non-null  int64  \n",
      " 22  max_floor_lvl              150634 non-null  int64  \n",
      " 23  year_completed             150634 non-null  int64  \n",
      " 24  residential                150634 non-null  object \n",
      " 25  commercial                 150634 non-null  object \n",
      " 26  market_hawker              150634 non-null  object \n",
      " 27  multistorey_carpark        150634 non-null  object \n",
      " 28  precinct_pavilion          150634 non-null  object \n",
      " 29  total_dwelling_units       150634 non-null  int64  \n",
      " 30  1room_sold                 150634 non-null  int64  \n",
      " 31  2room_sold                 150634 non-null  int64  \n",
      " 32  3room_sold                 150634 non-null  int64  \n",
      " 33  4room_sold                 150634 non-null  int64  \n",
      " 34  5room_sold                 150634 non-null  int64  \n",
      " 35  exec_sold                  150634 non-null  int64  \n",
      " 36  multigen_sold              150634 non-null  int64  \n",
      " 37  studio_apartment_sold      150634 non-null  int64  \n",
      " 38  1room_rental               150634 non-null  int64  \n",
      " 39  2room_rental               150634 non-null  int64  \n",
      " 40  3room_rental               150634 non-null  int64  \n",
      " 41  other_room_rental          150634 non-null  int64  \n",
      " 42  postal                     150634 non-null  object \n",
      " 43  Latitude                   150634 non-null  float64\n",
      " 44  Longitude                  150634 non-null  float64\n",
      " 45  planning_area              150634 non-null  object \n",
      " 46  Mall_Nearest_Distance      150634 non-null  float64\n",
      " 47  Mall_Within_500m           150634 non-null  float64\n",
      " 48  Mall_Within_1km            150634 non-null  float64\n",
      " 49  Mall_Within_2km            150634 non-null  float64\n",
      " 50  Hawker_Nearest_Distance    150634 non-null  float64\n",
      " 51  Hawker_Within_500m         150634 non-null  float64\n",
      " 52  Hawker_Within_1km          150634 non-null  float64\n",
      " 53  Hawker_Within_2km          150634 non-null  float64\n",
      " 54  hawker_food_stalls         150634 non-null  int64  \n",
      " 55  hawker_market_stalls       150634 non-null  int64  \n",
      " 56  mrt_nearest_distance       150634 non-null  float64\n",
      " 57  mrt_name                   150634 non-null  object \n",
      " 58  bus_interchange            150634 non-null  int64  \n",
      " 59  mrt_interchange            150634 non-null  int64  \n",
      " 60  mrt_latitude               150634 non-null  float64\n",
      " 61  mrt_longitude              150634 non-null  float64\n",
      " 62  bus_stop_nearest_distance  150634 non-null  float64\n",
      " 63  bus_stop_name              150634 non-null  object \n",
      " 64  bus_stop_latitude          150634 non-null  float64\n",
      " 65  bus_stop_longitude         150634 non-null  float64\n",
      " 66  pri_sch_nearest_distance   150634 non-null  float64\n",
      " 67  pri_sch_name               150634 non-null  object \n",
      " 68  vacancy                    150634 non-null  int64  \n",
      " 69  pri_sch_affiliation        150634 non-null  int64  \n",
      " 70  pri_sch_latitude           150634 non-null  float64\n",
      " 71  pri_sch_longitude          150634 non-null  float64\n",
      " 72  sec_sch_nearest_dist       150634 non-null  float64\n",
      " 73  sec_sch_name               150634 non-null  object \n",
      " 74  cutoff_point               150634 non-null  int64  \n",
      " 75  affiliation                150634 non-null  int64  \n",
      " 76  sec_sch_latitude           150634 non-null  float64\n",
      " 77  sec_sch_longitude          150634 non-null  float64\n",
      "dtypes: float64(26), int64(32), object(20)\n",
      "memory usage: 89.6+ MB\n"
     ]
    }
   ],
   "source": [
    "hdb_data_imputation = hdb_data.fillna(0)\n",
    "hdb_data_imputation.isnull().sum().sort_values(ascending=False, inplace=True)\n",
    "hdb_data_imputation.info()\n",
    "\n",
    "hdb_data_imputation.to_csv('cleaned_data.csv')\n"
   ]
  },
  {
   "cell_type": "markdown",
   "id": "72fb1c24",
   "metadata": {},
   "source": [
    "After this preliminary clearing of null values, we can now use domain expertise on this 'cleaned_data.csv' to do forward elimination.This process was done in Excel. Deleting the columns that we did not use."
   ]
  },
  {
   "cell_type": "markdown",
   "id": "ab75061a",
   "metadata": {},
   "source": [
    "Some new columns were featured and the process will be done in the Feature_Engineering notebook"
   ]
  }
 ],
 "metadata": {
  "kernelspec": {
   "display_name": "Python 3",
   "language": "python",
   "name": "python3"
  },
  "language_info": {
   "codemirror_mode": {
    "name": "ipython",
    "version": 3
   },
   "file_extension": ".py",
   "mimetype": "text/x-python",
   "name": "python",
   "nbconvert_exporter": "python",
   "pygments_lexer": "ipython3",
   "version": "3.11.5"
  }
 },
 "nbformat": 4,
 "nbformat_minor": 5
}
